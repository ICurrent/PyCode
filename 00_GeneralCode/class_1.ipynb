{
 "cells": [
  {
   "cell_type": "markdown",
   "metadata": {},
   "source": [
    "- **Class**: A class provides a template or a lueprint that describes the structure and behaviour of set of simillar objects."
   ]
  },
  {
   "cell_type": "code",
   "execution_count": null,
   "metadata": {},
   "outputs": [],
   "source": [
    "class Class_name:\n",
    "    # Body of class\n",
    "    pass"
   ]
  },
  {
   "cell_type": "markdown",
   "metadata": {},
   "source": [
    "- **Object**: An Object is an instance of a class which can be uniquely identified by its name\n",
    "Every object has a state which is given by the values of its attributes at a particular time."
   ]
  },
  {
   "cell_type": "code",
   "execution_count": null,
   "metadata": {},
   "outputs": [],
   "source": [
    "object_name = Class_name()\n",
    "print(object_name.parameter)"
   ]
  },
  {
   "cell_type": "markdown",
   "metadata": {},
   "source": [
    "- **Polymorphism**: Polymorphism is a concept that enables programmers to assign a different meaning or usage to a method in different context."
   ]
  },
  {
   "cell_type": "code",
   "execution_count": null,
   "metadata": {},
   "outputs": [],
   "source": [
    "# Polymorphism in Python\n",
    "\n",
    "def mul(x, y, z = 1):\n",
    "    return x*y*z\n",
    "\n",
    "print(mul(2, 3))\n",
    "print(mul(2, 3, 4))"
   ]
  },
  {
   "cell_type": "markdown",
   "metadata": {},
   "source": [
    "- **Inheritance**: Inheritance is the capability of one class to derive or inherit the properties from another class"
   ]
  },
  {
   "cell_type": "code",
   "execution_count": null,
   "metadata": {},
   "outputs": [],
   "source": [
    "# Syntax of child class in Python\n",
    "\n",
    "class Child_class(Parent_class):\n",
    "    # Body of the class\n",
    "    pass"
   ]
  },
  {
   "cell_type": "markdown",
   "metadata": {},
   "source": [
    "- **Data abstraction**: Data abstraction is the process by which data and functions are defined in such a way that only essential details are revealed and the implementation details are hidden."
   ]
  },
  {
   "cell_type": "code",
   "execution_count": 1,
   "metadata": {},
   "outputs": [],
   "source": [
    "# Abstraction in Python\n",
    "from abc import ABC\n",
    "\n",
    "class MyABC(ABC):\n",
    "    pass"
   ]
  },
  {
   "cell_type": "markdown",
   "metadata": {},
   "source": [
    "- **Data encapsulation**: Data encapsulation (hiding) is the technique of packing data and functions into single component to hide implementation details of a class from users."
   ]
  },
  {
   "cell_type": "code",
   "execution_count": 2,
   "metadata": {},
   "outputs": [
    {
     "name": "stdout",
     "output_type": "stream",
     "text": [
      "Current\n",
      "15\n",
      "Current\n",
      "15\n"
     ]
    }
   ],
   "source": [
    "# Encapsulation in Python\n",
    "\n",
    "class Person:\n",
    "    def __init__(self, name, age):\n",
    "        self.name = name\n",
    "        self.age = age\n",
    "\n",
    "    def display(self):\n",
    "        print(self.name)\n",
    "        print(self.age)\n",
    "\n",
    "person = Person('Current', 15)\n",
    "\n",
    "# accessing using the class method\n",
    "person.display()\n",
    "\n",
    "# accessing directly from outside\n",
    "print(person.name)\n",
    "print(person.age)\n"
   ]
  },
  {
   "cell_type": "code",
   "execution_count": null,
   "metadata": {},
   "outputs": [],
   "source": [
    "class Family:\n",
    "    def __init__(self, surname, state):\n",
    "        self.surnmae = surname\n",
    "        self.state = state\n",
    "\n"
   ]
  },
  {
   "cell_type": "code",
   "execution_count": null,
   "metadata": {},
   "outputs": [],
   "source": [
    "from unicodedata import name\n",
    "\n",
    "\n",
    "class Vehincle:\n",
    "    def __init__(self, name, year):\n",
    "        self.name = name\n",
    "        self.year = year\n",
    "    \n",
    "\n",
    "class Bus(Vehincle):\n",
    "    super().vechincle\n",
    "    def __init__(self, name):\n",
    "        self.name = name\n"
   ]
  }
 ],
 "metadata": {
  "kernelspec": {
   "display_name": "Python 3.9.7 ('base')",
   "language": "python",
   "name": "python3"
  },
  "language_info": {
   "codemirror_mode": {
    "name": "ipython",
    "version": 3
   },
   "file_extension": ".py",
   "mimetype": "text/x-python",
   "name": "python",
   "nbconvert_exporter": "python",
   "pygments_lexer": "ipython3",
   "version": "3.9.7"
  },
  "orig_nbformat": 4,
  "vscode": {
   "interpreter": {
    "hash": "5bbe1851e8ef27c06ce02c4170c07d7299c65a993da68f92144f7b7627d84cb9"
   }
  }
 },
 "nbformat": 4,
 "nbformat_minor": 2
}
