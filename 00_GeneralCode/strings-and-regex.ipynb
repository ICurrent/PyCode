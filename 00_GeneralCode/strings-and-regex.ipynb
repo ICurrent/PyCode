{
 "cells": [
  {
   "cell_type": "markdown",
   "metadata": {
    "_cell_guid": "9f2d969f-b63a-4dc4-8a3b-e342a4f7be03",
    "_uuid": "9c8311a7e0ee3dfffe1ee5ad94bc795500c93d27"
   },
   "source": [
    "*This notebook comes from [A Whirlwind Tour of Python](http://www.oreilly.com/programming/free/a-whirlwind-tour-of-python.csp) by Jake VanderPlas (OReilly Media, 2016). This content is licensed [CC0](https://github.com/jakevdp/WhirlwindTourOfPython/blob/master/LICENSE). The full notebook listing is available at https://github.com/jakevdp/WhirlwindTourOfPython.*"
   ]
  },
  {
   "cell_type": "markdown",
   "metadata": {
    "_cell_guid": "8f5e1938-83a4-4057-820d-f6b528fca49f",
    "_uuid": "fadfdeb238b4d829deba48975bdb02afac1531bd"
   },
   "source": [
    "<!--NAVIGATION-->\n",
    "< [Modules and Packages](https://www.kaggle.com/sohier/wtop-13-modules-and-packages) | [Contents](https://www.kaggle.com/sohier/whirlwind-tour-of-python-index/) | [A Preview of Data Science Tools](https://www.kaggle.com/sohier/wtop-15-preview-of-data-science-tools) >"
   ]
  },
  {
   "cell_type": "markdown",
   "metadata": {
    "_cell_guid": "aaf20c25-4bb0-4830-acde-80de04f80a08",
    "_uuid": "cdaa219bb80cf24a4720a48cd6183f53094c1db2"
   },
   "source": [
    "# String Manipulation and Regular Expressions"
   ]
  },
  {
   "cell_type": "markdown",
   "metadata": {
    "_cell_guid": "29b5a51e-459a-431c-8918-a3a21b41eb4f",
    "_uuid": "7194ac5e5593acc97b0b5a22db8b2f4f9cc0bf03"
   },
   "source": [
    "One place where the Python language really shines is in the manipulation of strings.\n",
    "This section will cover some of Python's built-in string methods and formatting operations, before moving on to a quick guide to the extremely useful subject of *regular expressions*.\n",
    "Such string manipulation pattens come up often in the context of data science work, and is one big perk of Python in this context.\n",
    "\n",
    "Strings in Python can be defined using either single or double quotations (they are functionally equivalent):"
   ]
  },
  {
   "cell_type": "code",
   "execution_count": 1,
   "metadata": {
    "_cell_guid": "f79e4f18-a309-41ae-8172-9e777ea445a0",
    "_uuid": "61864b8da5c77acbd9919fe7d14e855852011c3e",
    "collapsed": true
   },
   "outputs": [
    {
     "data": {
      "text/plain": [
       "True"
      ]
     },
     "execution_count": 1,
     "metadata": {},
     "output_type": "execute_result"
    }
   ],
   "source": [
    "x = 'a string'\n",
    "y = \"a string\"\n",
    "x == y"
   ]
  },
  {
   "cell_type": "markdown",
   "metadata": {
    "_cell_guid": "6c4506a3-98ac-44f3-b2cd-2e33591c5674",
    "_uuid": "afafd93b3947deec5ce724950b9ea168606d0cad"
   },
   "source": [
    "In addition, it is possible to define multi-line strings using a triple-quote syntax:"
   ]
  },
  {
   "cell_type": "code",
   "execution_count": 2,
   "metadata": {
    "_cell_guid": "fe12ea74-5a4b-4b49-aa12-26604b8907da",
    "_uuid": "13e1efd3e5be7f4342461594f2f7bc79b75e069d",
    "collapsed": true
   },
   "outputs": [],
   "source": [
    "multiline = \"\"\"\n",
    "one\n",
    "two\n",
    "three\n",
    "\"\"\""
   ]
  },
  {
   "cell_type": "markdown",
   "metadata": {
    "_cell_guid": "dcd95088-8401-4258-a5ab-1131919ad911",
    "_uuid": "aa4d72da2873f6dbc61d6a810c7c8821adc1e342"
   },
   "source": [
    "With this, let's take a quick tour of some of Python's string manipulation tools."
   ]
  },
  {
   "cell_type": "markdown",
   "metadata": {
    "_cell_guid": "c2a82832-380e-4975-ac71-51e83f930646",
    "_uuid": "27f0d28b74307fa8ee5acb480ef91fd0c14388d7"
   },
   "source": [
    "## Simple String Manipulation in Python\n",
    "\n",
    "For basic manipulation of strings, Python's built-in string methods can be extremely convenient.\n",
    "If you have a background working in C or another low-level language, you will likely find the simplicity of Python's methods extremely refreshing.\n",
    "We introduced Python's string type and a few of these methods earlier; here we'll dive a bit deeper"
   ]
  },
  {
   "cell_type": "markdown",
   "metadata": {
    "_cell_guid": "c68969d8-68f1-43f7-8add-202f0c30bac0",
    "_uuid": "819a6802feb2df48931277f1cd3ab1fb43977137"
   },
   "source": [
    "### Formatting strings: Adjusting case\n",
    "\n",
    "Python makes it quite easy to adjust the case of a string.\n",
    "Here we'll look at the ``upper()``, ``lower()``, ``capitalize()``, ``title()``, and ``swapcase()`` methods, using the following messy string as an example:"
   ]
  },
  {
   "cell_type": "code",
   "execution_count": 3,
   "metadata": {
    "_cell_guid": "77bf0cd9-9bf6-4f38-8979-43f43c2ca02b",
    "_uuid": "60b405e3a279bc48690384bf1a9001be642b866d",
    "collapsed": true
   },
   "outputs": [],
   "source": [
    "fox = \"tHe qUICk bROWn fOx.\""
   ]
  },
  {
   "cell_type": "markdown",
   "metadata": {
    "_cell_guid": "8e328255-22a3-4ba6-ad2d-c48b3cc1a9ea",
    "_uuid": "c020708c35abb7a006ddd4d20d20f2c31894c492"
   },
   "source": [
    "To convert the entire string into upper-case or lower-case, you can use the ``upper()`` or ``lower()`` methods respectively:"
   ]
  },
  {
   "cell_type": "code",
   "execution_count": 4,
   "metadata": {
    "_cell_guid": "37b5bc50-2a10-4e65-a68c-39b0555f2c2d",
    "_uuid": "f2e7072ba2e0c99d00194af3bc827643da732ce9",
    "collapsed": true
   },
   "outputs": [
    {
     "data": {
      "text/plain": [
       "'THE QUICK BROWN FOX.'"
      ]
     },
     "execution_count": 4,
     "metadata": {},
     "output_type": "execute_result"
    }
   ],
   "source": [
    "fox.upper()"
   ]
  },
  {
   "cell_type": "code",
   "execution_count": 5,
   "metadata": {
    "_cell_guid": "81022e98-13b7-46e3-80a0-507967f345c9",
    "_uuid": "12e6f0e7ba75dc5ab3bbf9d240dace640ae4ee4c",
    "collapsed": true
   },
   "outputs": [
    {
     "data": {
      "text/plain": [
       "'the quick brown fox.'"
      ]
     },
     "execution_count": 5,
     "metadata": {},
     "output_type": "execute_result"
    }
   ],
   "source": [
    "fox.lower()"
   ]
  },
  {
   "cell_type": "markdown",
   "metadata": {
    "_cell_guid": "3be4e938-9744-46a9-a049-dd3a7c19a41f",
    "_uuid": "9b06525f22848d14f409be4893903f6abdccb534"
   },
   "source": [
    "A common formatting need is to capitalize just the first letter of each word, or perhaps the first letter of each sentence.\n",
    "This can be done with the ``title()`` and ``capitalize()`` methods:"
   ]
  },
  {
   "cell_type": "code",
   "execution_count": 6,
   "metadata": {
    "_cell_guid": "82616a2f-df0c-4343-b34e-ad0c183ed340",
    "_uuid": "07f53577a15c64de853181c5bfcb68926ec574b9",
    "collapsed": true
   },
   "outputs": [
    {
     "data": {
      "text/plain": [
       "'The Quick Brown Fox.'"
      ]
     },
     "execution_count": 6,
     "metadata": {},
     "output_type": "execute_result"
    }
   ],
   "source": [
    "fox.title()"
   ]
  },
  {
   "cell_type": "code",
   "execution_count": 7,
   "metadata": {
    "_cell_guid": "225a3cf8-7fa4-4dc7-bca0-6b479d851d3f",
    "_uuid": "d33d12ae1ff0ada0c61eaff736d42c1e2ef57d44",
    "collapsed": true
   },
   "outputs": [
    {
     "data": {
      "text/plain": [
       "'The quick brown fox.'"
      ]
     },
     "execution_count": 7,
     "metadata": {},
     "output_type": "execute_result"
    }
   ],
   "source": [
    "fox.capitalize()"
   ]
  },
  {
   "cell_type": "markdown",
   "metadata": {
    "_cell_guid": "34507cb7-f47a-4344-aaf9-ff5e81cfda76",
    "_uuid": "4696718f31c785e0aa23a0f381d5351f2318999c"
   },
   "source": [
    "The cases can be swapped using the ``swapcase()`` method:"
   ]
  },
  {
   "cell_type": "code",
   "execution_count": 8,
   "metadata": {
    "_cell_guid": "988e4dbf-bd85-4cab-986a-542f851724ea",
    "_uuid": "3af7ad71e639173709a70a1333d738cf75120561",
    "collapsed": true
   },
   "outputs": [
    {
     "data": {
      "text/plain": [
       "'ThE QuicK BrowN FoX.'"
      ]
     },
     "execution_count": 8,
     "metadata": {},
     "output_type": "execute_result"
    }
   ],
   "source": [
    "fox.swapcase()"
   ]
  },
  {
   "cell_type": "markdown",
   "metadata": {
    "_cell_guid": "9a3e49eb-a83f-4c4a-81ee-ed62657ac577",
    "_uuid": "a90fd601f450158c89ad7379a969894099d461ef"
   },
   "source": [
    "### Formatting strings: Adding and removing spaces\n",
    "\n",
    "Another common need is to remove spaces (or other characters) from the beginning or end of the string.\n",
    "The basic method of removing characters is the ``strip()`` method, which strips whitespace from the beginning and end of the line:"
   ]
  },
  {
   "cell_type": "code",
   "execution_count": 9,
   "metadata": {
    "_cell_guid": "0c153fe9-2f6d-4281-95f0-413687ffee5c",
    "_uuid": "df7a0bb18b5ba0417929bef37e9602f7e9537a2a",
    "collapsed": true
   },
   "outputs": [
    {
     "data": {
      "text/plain": [
       "'this is the content'"
      ]
     },
     "execution_count": 9,
     "metadata": {},
     "output_type": "execute_result"
    }
   ],
   "source": [
    "line = '         this is the content         '\n",
    "line.strip()"
   ]
  },
  {
   "cell_type": "markdown",
   "metadata": {
    "_cell_guid": "cff853bc-ae76-4c4d-a131-6b92c51da81e",
    "_uuid": "25e015c8ada933243c3280c741d3fe98bf8ed6b7"
   },
   "source": [
    "To remove just space to the right or left, use ``rstrip()`` or ``lstrip()`` respectively:"
   ]
  },
  {
   "cell_type": "code",
   "execution_count": 10,
   "metadata": {
    "_cell_guid": "f79cf614-90e4-4be7-9021-ae8cf5b3819d",
    "_uuid": "14e58848a265042bf8c2f6d90c4d6d1265729b4a",
    "collapsed": true
   },
   "outputs": [
    {
     "data": {
      "text/plain": [
       "'         this is the content'"
      ]
     },
     "execution_count": 10,
     "metadata": {},
     "output_type": "execute_result"
    }
   ],
   "source": [
    "line.rstrip()"
   ]
  },
  {
   "cell_type": "code",
   "execution_count": 11,
   "metadata": {
    "_cell_guid": "550d1609-5dc4-4446-8c90-fc558ed66a38",
    "_uuid": "d7ef1bdf545c073b075e76772ae5736a453b29ce",
    "collapsed": true
   },
   "outputs": [
    {
     "data": {
      "text/plain": [
       "'this is the content         '"
      ]
     },
     "execution_count": 11,
     "metadata": {},
     "output_type": "execute_result"
    }
   ],
   "source": [
    "line.lstrip()"
   ]
  },
  {
   "cell_type": "markdown",
   "metadata": {
    "_cell_guid": "11a704c8-77cf-496b-8b2f-fc9a5a78e587",
    "_uuid": "5a3b9fbeea6d2cc8eb6631ac6f9cb669c4092929"
   },
   "source": [
    "To remove characters other than spaces, you can pass the desired character to the ``strip()`` method:"
   ]
  },
  {
   "cell_type": "code",
   "execution_count": 12,
   "metadata": {
    "_cell_guid": "238f0015-e538-4ca9-b12d-5a73eb63d9fd",
    "_uuid": "ce6f2eccf45886c7227a08bec88060e1011b4d0c",
    "collapsed": true
   },
   "outputs": [
    {
     "data": {
      "text/plain": [
       "'435'"
      ]
     },
     "execution_count": 12,
     "metadata": {},
     "output_type": "execute_result"
    }
   ],
   "source": [
    "num = \"000000000000435\"\n",
    "num.strip('0')"
   ]
  },
  {
   "cell_type": "markdown",
   "metadata": {
    "_cell_guid": "e70cc856-ff90-4672-a924-8cf237211083",
    "_uuid": "9641160de024b66b8d34ae4a7f3fd6c5b648048c"
   },
   "source": [
    "The opposite of this operation, adding spaces or other characters, can be accomplished using the ``center()``, ``ljust()``, and ``rjust()`` methods.\n",
    "\n",
    "For example, we can use the ``center()`` method to center a given string within a given number of spaces:"
   ]
  },
  {
   "cell_type": "code",
   "execution_count": 13,
   "metadata": {
    "_cell_guid": "f7c8ee45-9598-4c77-95a3-c476cfc03a26",
    "_uuid": "bda935c78d8b9e5dae3ebc8f756f4f92f4b09af2",
    "collapsed": true
   },
   "outputs": [
    {
     "data": {
      "text/plain": [
       "'     this is the content      '"
      ]
     },
     "execution_count": 13,
     "metadata": {},
     "output_type": "execute_result"
    }
   ],
   "source": [
    "line = \"this is the content\"\n",
    "line.center(30)"
   ]
  },
  {
   "cell_type": "markdown",
   "metadata": {
    "_cell_guid": "0d64f33b-8026-469f-b08b-c0e8600954b2",
    "_uuid": "55e03fa774c24f8c4103124550e16500806a83f7"
   },
   "source": [
    "Similarly, ``ljust()`` and ``rjust()`` will left-justify or right-justify the string within spaces of a given length:"
   ]
  },
  {
   "cell_type": "code",
   "execution_count": 14,
   "metadata": {
    "_cell_guid": "62db1c2b-8a2f-4688-bbd6-0f7e92fb5dfd",
    "_uuid": "d31b90a53a619174bdc6016afda79611acb10805",
    "collapsed": true
   },
   "outputs": [
    {
     "data": {
      "text/plain": [
       "'this is the content           '"
      ]
     },
     "execution_count": 14,
     "metadata": {},
     "output_type": "execute_result"
    }
   ],
   "source": [
    "line.ljust(30)"
   ]
  },
  {
   "cell_type": "code",
   "execution_count": 15,
   "metadata": {
    "_cell_guid": "58459368-2917-4a84-88f7-0568d937a7aa",
    "_uuid": "47c3d32c6d0257a7a6224ac07d0b084b664c2ffd",
    "collapsed": true
   },
   "outputs": [
    {
     "data": {
      "text/plain": [
       "'           this is the content'"
      ]
     },
     "execution_count": 15,
     "metadata": {},
     "output_type": "execute_result"
    }
   ],
   "source": [
    "line.rjust(30)"
   ]
  },
  {
   "cell_type": "markdown",
   "metadata": {
    "_cell_guid": "aab22cc3-3f82-41a3-88cd-fe91c77eeb37",
    "_uuid": "7980ecb4d9ea75ea3b441d79b44dcb1cc8309157"
   },
   "source": [
    "All these methods additionally accept any character which will be used to fill the space.\n",
    "For example:"
   ]
  },
  {
   "cell_type": "code",
   "execution_count": 16,
   "metadata": {
    "_cell_guid": "449c4853-be3b-4c84-8be1-5453df544e09",
    "_uuid": "36bcff88c0cd0be4ab5fd9cf37286cfe0db5eef1",
    "collapsed": true
   },
   "outputs": [
    {
     "data": {
      "text/plain": [
       "'0000000435'"
      ]
     },
     "execution_count": 16,
     "metadata": {},
     "output_type": "execute_result"
    }
   ],
   "source": [
    "'435'.rjust(10, '0')"
   ]
  },
  {
   "cell_type": "markdown",
   "metadata": {
    "_cell_guid": "c7369472-23e9-404c-b0de-0a642f795cb8",
    "_uuid": "f4cfa18b0046a70c875b7a4824d15ad14ed87e57"
   },
   "source": [
    "Because zero-filling is such a common need, Python also provides ``zfill()``, which is a special method to right-pad a string with zeros:"
   ]
  },
  {
   "cell_type": "code",
   "execution_count": 17,
   "metadata": {
    "_cell_guid": "d8906176-8bb1-4a24-b919-a941dfbbaeed",
    "_uuid": "a8e5a669723ce74166cd724bc2d1f749c2cfb184",
    "collapsed": true
   },
   "outputs": [
    {
     "data": {
      "text/plain": [
       "'0000000435'"
      ]
     },
     "execution_count": 17,
     "metadata": {},
     "output_type": "execute_result"
    }
   ],
   "source": [
    "'435'.zfill(10)"
   ]
  },
  {
   "cell_type": "markdown",
   "metadata": {
    "_cell_guid": "2cb9110c-8bb7-46f2-9468-038f75a6b745",
    "_uuid": "c106b9fb938bf3e48edc362f4aae98936237dfb7"
   },
   "source": [
    "### Finding and replacing substrings\n",
    "\n",
    "If you want to find occurrences of a certain character in a string, the ``find()``/``rfind()``, ``index()``/``rindex()``, and ``replace()`` methods are the best built-in methods.\n",
    "\n",
    "``find()`` and ``index()`` are very similar, in that they search for the first occurrence of a character or substring within a string, and return the index of the substring:"
   ]
  },
  {
   "cell_type": "code",
   "execution_count": 18,
   "metadata": {
    "_cell_guid": "f9602480-f56e-4bdd-9140-460ae939b0a1",
    "_uuid": "9caef99c20f34e8011a483cb4d5960f4a0f4e304",
    "collapsed": true
   },
   "outputs": [
    {
     "data": {
      "text/plain": [
       "16"
      ]
     },
     "execution_count": 18,
     "metadata": {},
     "output_type": "execute_result"
    }
   ],
   "source": [
    "line = 'the quick brown fox jumped over a lazy dog'\n",
    "line.find('fox')"
   ]
  },
  {
   "cell_type": "code",
   "execution_count": 19,
   "metadata": {
    "_cell_guid": "2366fb37-277c-4de7-8243-c3e4571f626c",
    "_uuid": "0cdf7c8e9b9311fd8d2020c1cb5d2e653dc8e74b",
    "collapsed": true
   },
   "outputs": [
    {
     "data": {
      "text/plain": [
       "16"
      ]
     },
     "execution_count": 19,
     "metadata": {},
     "output_type": "execute_result"
    }
   ],
   "source": [
    "line.index('fox')"
   ]
  },
  {
   "cell_type": "markdown",
   "metadata": {
    "_cell_guid": "0db52f57-1199-4237-a1f1-13a5d1c832bb",
    "_uuid": "d66e8d4f1bc9e8250cafcea3d3b67fcc3fc93508"
   },
   "source": [
    "The only difference between ``find()`` and ``index()`` is their behavior when the search string is not found; ``find()`` returns ``-1``, while ``index()`` raises a ``ValueError``:"
   ]
  },
  {
   "cell_type": "code",
   "execution_count": 20,
   "metadata": {
    "_cell_guid": "6cc55e15-1435-4558-a110-09f9f191b628",
    "_uuid": "695d789b3780a41610bb2a6f6290ea575c8e8259",
    "collapsed": true
   },
   "outputs": [
    {
     "data": {
      "text/plain": [
       "-1"
      ]
     },
     "execution_count": 20,
     "metadata": {},
     "output_type": "execute_result"
    }
   ],
   "source": [
    "line.find('bear')"
   ]
  },
  {
   "cell_type": "code",
   "execution_count": 21,
   "metadata": {
    "_cell_guid": "af8b4f2a-9ba9-4485-b3d7-9be3944252ec",
    "_uuid": "0320b210d925735043cbc7e0b0f3d2ec33979e19",
    "collapsed": true
   },
   "outputs": [
    {
     "ename": "ValueError",
     "evalue": "substring not found",
     "output_type": "error",
     "traceback": [
      "\u001b[0;31m---------------------------------------------------------------------------\u001b[0m",
      "\u001b[0;31mValueError\u001b[0m                                Traceback (most recent call last)",
      "\u001b[0;32m<ipython-input-21-4cbe6ee9b0eb>\u001b[0m in \u001b[0;36m<module>\u001b[0;34m()\u001b[0m\n\u001b[0;32m----> 1\u001b[0;31m \u001b[0mline\u001b[0m\u001b[0;34m.\u001b[0m\u001b[0mindex\u001b[0m\u001b[0;34m(\u001b[0m\u001b[0;34m'bear'\u001b[0m\u001b[0;34m)\u001b[0m\u001b[0;34m\u001b[0m\u001b[0m\n\u001b[0m",
      "\u001b[0;31mValueError\u001b[0m: substring not found"
     ]
    }
   ],
   "source": [
    "line.index('bear')"
   ]
  },
  {
   "cell_type": "markdown",
   "metadata": {
    "_cell_guid": "fbb85f70-afb1-4adc-bb3e-16a70b16cb11",
    "_uuid": "2c53a61f2b12ae68505877266397d3d67afc141b"
   },
   "source": [
    "The related ``rfind()`` and ``rindex()`` work similarly, except they search for the first occurrence from the end rather than the beginning of the string:"
   ]
  },
  {
   "cell_type": "code",
   "execution_count": 22,
   "metadata": {
    "_cell_guid": "4356a6c7-3d4f-46d3-8913-854b1965a578",
    "_uuid": "9addfdbc53638e95844db91b07fde17b8292c4a7",
    "collapsed": true
   },
   "outputs": [
    {
     "data": {
      "text/plain": [
       "35"
      ]
     },
     "execution_count": 22,
     "metadata": {},
     "output_type": "execute_result"
    }
   ],
   "source": [
    "line.rfind('a')"
   ]
  },
  {
   "cell_type": "markdown",
   "metadata": {
    "_cell_guid": "5d281034-fed2-469f-9d01-5e68851ad669",
    "_uuid": "8808db421c43e8cbe01cb094249e33fe1bde0da8"
   },
   "source": [
    "For the special case of checking for a substring at the beginning or end of a string, Python provides the ``startswith()`` and ``endswith()`` methods:"
   ]
  },
  {
   "cell_type": "code",
   "execution_count": 23,
   "metadata": {
    "_cell_guid": "a0110fe3-1f12-40d1-a23e-3c0dfb595ddc",
    "_uuid": "3a4ed11179cf2670652bea642185f68a14874e82",
    "collapsed": true
   },
   "outputs": [
    {
     "data": {
      "text/plain": [
       "True"
      ]
     },
     "execution_count": 23,
     "metadata": {},
     "output_type": "execute_result"
    }
   ],
   "source": [
    "line.endswith('dog')"
   ]
  },
  {
   "cell_type": "code",
   "execution_count": 24,
   "metadata": {
    "_cell_guid": "2b064310-3b1c-4713-baa9-cd70e7a314ef",
    "_uuid": "b127e77530837f1a80d5c838e060e9de29563e5d",
    "collapsed": true
   },
   "outputs": [
    {
     "data": {
      "text/plain": [
       "False"
      ]
     },
     "execution_count": 24,
     "metadata": {},
     "output_type": "execute_result"
    }
   ],
   "source": [
    "line.startswith('fox')"
   ]
  },
  {
   "cell_type": "markdown",
   "metadata": {
    "_cell_guid": "3dc8c3e4-34cd-41f6-9413-6ec2c4b13592",
    "_uuid": "a99a9afe27ebf67e3b1a058fb4e0e1920eb7c7f0"
   },
   "source": [
    "To go one step further and replace a given substring with a new string, you can use the ``replace()`` method.\n",
    "Here, let's replace ``'brown'`` with ``'red'``:"
   ]
  },
  {
   "cell_type": "code",
   "execution_count": 25,
   "metadata": {
    "_cell_guid": "6800e2bd-d32d-41ed-b753-c44d6d475e47",
    "_uuid": "8f76504eacdc0fe89e8c3e0ba4607bccbfe2240c",
    "collapsed": true
   },
   "outputs": [
    {
     "data": {
      "text/plain": [
       "'the quick red fox jumped over a lazy dog'"
      ]
     },
     "execution_count": 25,
     "metadata": {},
     "output_type": "execute_result"
    }
   ],
   "source": [
    "line.replace('brown', 'red')"
   ]
  },
  {
   "cell_type": "markdown",
   "metadata": {
    "_cell_guid": "ec857a31-8b2f-4a5b-9825-b3e95bc632bd",
    "_uuid": "4ecd797e3bbcdb9ef9e9f4fdb27dc02be762d405"
   },
   "source": [
    "The ``replace()`` function returns a new string, and will replace all occurrences of the input:"
   ]
  },
  {
   "cell_type": "code",
   "execution_count": 26,
   "metadata": {
    "_cell_guid": "83f8f874-e035-40c4-bddd-f55002e1086a",
    "_uuid": "1d5aa33a6cee101ee7652a3965778d9cdd34c1c3",
    "collapsed": true
   },
   "outputs": [
    {
     "data": {
      "text/plain": [
       "'the quick br--wn f--x jumped --ver a lazy d--g'"
      ]
     },
     "execution_count": 26,
     "metadata": {},
     "output_type": "execute_result"
    }
   ],
   "source": [
    "line.replace('o', '--')"
   ]
  },
  {
   "cell_type": "markdown",
   "metadata": {
    "_cell_guid": "e56a5a63-3a8e-487c-ba76-d6548fb0f5f4",
    "_uuid": "cb007bb6966dbc98655464258a11919562bd2665"
   },
   "source": [
    "For a more flexible approach to this ``replace()`` functionality, see the discussion of regular expressions in [Flexible Pattern Matching with Regular Expressions](#Flexible-Pattern-Matching-with-Regular-Expressions)."
   ]
  },
  {
   "cell_type": "markdown",
   "metadata": {
    "_cell_guid": "a4b54d5c-abb8-464e-a60f-e23cc0459b3f",
    "_uuid": "19e8d7a96f80a60beb40156e8b19cbf923049efd"
   },
   "source": [
    "### Splitting and partitioning strings\n",
    "\n",
    "If you would like to find a substring *and then* split the string based on its location, the ``partition()`` and/or ``split()`` methods are what you're looking for.\n",
    "Both will return a sequence of substrings.\n",
    "\n",
    "The ``partition()`` method returns a tuple with three elements: the substring before the first instance of the split-point, the split-point itself, and the substring after:"
   ]
  },
  {
   "cell_type": "code",
   "execution_count": 27,
   "metadata": {
    "_cell_guid": "e52b0157-4441-4b54-acff-b7760aa4b047",
    "_uuid": "8ed879ccbfea2377b4fe2d20de51ac878cd0a308",
    "collapsed": true
   },
   "outputs": [
    {
     "data": {
      "text/plain": [
       "('the quick brown ', 'fox', ' jumped over a lazy dog')"
      ]
     },
     "execution_count": 27,
     "metadata": {},
     "output_type": "execute_result"
    }
   ],
   "source": [
    "line.partition('fox')"
   ]
  },
  {
   "cell_type": "markdown",
   "metadata": {
    "_cell_guid": "5521ca09-a0f7-4236-96fe-976c83e00d7d",
    "_uuid": "b083ea58ea599924ccc983ac1e9eea28491917c5"
   },
   "source": [
    "The ``rpartition()`` method is similar, but searches from the right of the string.\n",
    "\n",
    "The ``split()`` method is perhaps more useful; it finds *all* instances of the split-point and returns the substrings in between.\n",
    "The default is to split on any whitespace, returning a list of the individual words in a string:"
   ]
  },
  {
   "cell_type": "code",
   "execution_count": 28,
   "metadata": {
    "_cell_guid": "811f1dda-17c7-48d0-b870-d0695a3987e2",
    "_uuid": "fe224b4f6e725a2326bd225a9acf36ecfb323d6f",
    "collapsed": true
   },
   "outputs": [
    {
     "data": {
      "text/plain": [
       "['the', 'quick', 'brown', 'fox', 'jumped', 'over', 'a', 'lazy', 'dog']"
      ]
     },
     "execution_count": 28,
     "metadata": {},
     "output_type": "execute_result"
    }
   ],
   "source": [
    "line.split()"
   ]
  },
  {
   "cell_type": "markdown",
   "metadata": {
    "_cell_guid": "e8e21e1b-8265-497f-96ad-a56d2b008440",
    "_uuid": "6a4cd903864616616a8744dc06954f140247775e"
   },
   "source": [
    "A related method is ``splitlines()``, which splits on newline characters.\n",
    "Let's do this with a Haiku, popularly attributed to the 17th-century poet Matsuo Bashō:"
   ]
  },
  {
   "cell_type": "code",
   "execution_count": 29,
   "metadata": {
    "_cell_guid": "9e793e36-dae5-4cbd-a512-6765054fb3a5",
    "_uuid": "4122c4b3458bf1308e020634a8922994f9e0d876",
    "collapsed": true
   },
   "outputs": [
    {
     "data": {
      "text/plain": [
       "['matsushima-ya', 'aah matsushima-ya', 'matsushima-ya']"
      ]
     },
     "execution_count": 29,
     "metadata": {},
     "output_type": "execute_result"
    }
   ],
   "source": [
    "haiku = \"\"\"matsushima-ya\n",
    "aah matsushima-ya\n",
    "matsushima-ya\"\"\"\n",
    "\n",
    "haiku.splitlines()"
   ]
  },
  {
   "cell_type": "markdown",
   "metadata": {
    "_cell_guid": "eb412aab-1119-4ace-ade9-87ec5815e7bc",
    "_uuid": "4aa95b8403b8fc01ae5922ebb55947152fa0105d"
   },
   "source": [
    "Note that if you would like to undo a ``split()``, you can use the ``join()`` method, which returns a string built from a splitpoint and an iterable:"
   ]
  },
  {
   "cell_type": "code",
   "execution_count": 30,
   "metadata": {
    "_cell_guid": "6151046e-520e-4eab-9700-d5f819ca56c6",
    "_uuid": "7e36016ae481dbcd402c1c33db636c98ac1cc58a",
    "collapsed": true
   },
   "outputs": [
    {
     "data": {
      "text/plain": [
       "'1--2--3'"
      ]
     },
     "execution_count": 30,
     "metadata": {},
     "output_type": "execute_result"
    }
   ],
   "source": [
    "'--'.join(['1', '2', '3'])"
   ]
  },
  {
   "cell_type": "markdown",
   "metadata": {
    "_cell_guid": "c2c768c5-2fdd-4c88-8799-ea718222a163",
    "_uuid": "f879d99204912340723ef7ba3f3d935cb2dc7798"
   },
   "source": [
    "A common pattern is to use the special character ``\"\\n\"`` (newline) to join together lines that have been previously split, and recover the input:"
   ]
  },
  {
   "cell_type": "code",
   "execution_count": 31,
   "metadata": {
    "_cell_guid": "cbe79b7b-0558-41fb-b174-d54b65910a76",
    "_uuid": "3118591d9f514bf2dc003646f8b43e2913677fa0",
    "collapsed": true
   },
   "outputs": [
    {
     "name": "stdout",
     "output_type": "stream",
     "text": [
      "matsushima-ya\n",
      "aah matsushima-ya\n",
      "matsushima-ya\n"
     ]
    }
   ],
   "source": [
    "print(\"\\n\".join(['matsushima-ya', 'aah matsushima-ya', 'matsushima-ya']))"
   ]
  },
  {
   "cell_type": "markdown",
   "metadata": {
    "_cell_guid": "7476946d-6c65-469e-b0fa-1b0c41cc7f54",
    "_uuid": "50ea0a86ca84fbe2226c288f18fc8d82e3032ce8"
   },
   "source": [
    "## Format Strings\n",
    "\n",
    "In the preceding methods, we have learned how to extract values from strings, and to manipulate strings themselves into desired formats.\n",
    "Another use of string methods is to manipulate string *representations* of values of other types.\n",
    "Of course, string representations can always be found using the ``str()`` function; for example:"
   ]
  },
  {
   "cell_type": "code",
   "execution_count": 32,
   "metadata": {
    "_cell_guid": "10a79ff6-c201-4ccd-9cc0-55c11cea9b78",
    "_uuid": "7818a611e5c383591be378adbbe94493b3c08d0a",
    "collapsed": true
   },
   "outputs": [
    {
     "data": {
      "text/plain": [
       "'3.14159'"
      ]
     },
     "execution_count": 32,
     "metadata": {},
     "output_type": "execute_result"
    }
   ],
   "source": [
    "pi = 3.14159\n",
    "str(pi)"
   ]
  },
  {
   "cell_type": "markdown",
   "metadata": {
    "_cell_guid": "396e8673-9d20-4cbc-8423-59d839daea76",
    "_uuid": "262543702dd8bc7bb97c568a4ca86f3b23d7b870"
   },
   "source": [
    "For more complicated formats, you might be tempted to use string arithmetic as outlined in [Basic Python Semantics: Operators](04-Semantics-Operators.ipynb):"
   ]
  },
  {
   "cell_type": "code",
   "execution_count": 33,
   "metadata": {
    "_cell_guid": "2c54043c-e117-4d37-90fb-e1e8ff89b625",
    "_uuid": "e293107585a36185ce3223e7549b8624686005e7",
    "collapsed": true
   },
   "outputs": [
    {
     "data": {
      "text/plain": [
       "'The value of pi is 3.14159'"
      ]
     },
     "execution_count": 33,
     "metadata": {},
     "output_type": "execute_result"
    }
   ],
   "source": [
    "\"The value of pi is \" + str(pi)"
   ]
  },
  {
   "cell_type": "markdown",
   "metadata": {
    "_cell_guid": "36cc5dc7-c091-4da9-ab25-16e6f7ab5557",
    "_uuid": "167b7faab39681dac7e2f1ee25a7d2017595f98e"
   },
   "source": [
    "A more flexible way to do this is to use *format strings*, which are strings with special markers (noted by curly braces) into which string-formatted values will be inserted.\n",
    "Here is a basic example:"
   ]
  },
  {
   "cell_type": "code",
   "execution_count": 34,
   "metadata": {
    "_cell_guid": "40cd6529-7fce-4ea8-9101-fb4eae714a28",
    "_uuid": "057c3f4aaa52d54d721fb0e55e670febffcf0576",
    "collapsed": true
   },
   "outputs": [
    {
     "data": {
      "text/plain": [
       "'The value of pi is 3.14159'"
      ]
     },
     "execution_count": 34,
     "metadata": {},
     "output_type": "execute_result"
    }
   ],
   "source": [
    "\"The value of pi is {}\".format(pi)"
   ]
  },
  {
   "cell_type": "markdown",
   "metadata": {
    "_cell_guid": "496eba8c-428a-41cf-8fa9-a9c665a652ec",
    "_uuid": "48acfac88164b3f05df11f98bcb93a0f906a9de1"
   },
   "source": [
    "Inside the ``{}`` marker you can also include information on exactly *what* you would like to appear there.\n",
    "If you include a number, it will refer to the index of the argument to insert:"
   ]
  },
  {
   "cell_type": "code",
   "execution_count": 35,
   "metadata": {
    "_cell_guid": "931ec872-8b6e-404f-9a0a-93aec11b64ec",
    "_uuid": "bff4ab15dc89c79c399d2789ddf9a14cf3a1bc64",
    "collapsed": true
   },
   "outputs": [
    {
     "data": {
      "text/plain": [
       "'First letter: A. Last letter: Z.'"
      ]
     },
     "execution_count": 35,
     "metadata": {},
     "output_type": "execute_result"
    }
   ],
   "source": [
    "\"\"\"First letter: {0}. Last letter: {1}.\"\"\".format('A', 'Z')"
   ]
  },
  {
   "cell_type": "markdown",
   "metadata": {
    "_cell_guid": "d7c5dee5-8c04-4c59-9215-9f6c40f96c2c",
    "_uuid": "4ad077c1d89f20d28ede63976c1a89059456ece6"
   },
   "source": [
    "If you include a string, it will refer to the key of any keyword argument:"
   ]
  },
  {
   "cell_type": "code",
   "execution_count": 36,
   "metadata": {
    "_cell_guid": "83f4b04d-77cf-4333-bce3-89dcb3098794",
    "_uuid": "230bf36af8063dfc46f8460d919c4ce63ffe5ed5",
    "collapsed": true
   },
   "outputs": [
    {
     "data": {
      "text/plain": [
       "'First letter: A. Last letter: Z.'"
      ]
     },
     "execution_count": 36,
     "metadata": {},
     "output_type": "execute_result"
    }
   ],
   "source": [
    "\"\"\"First letter: {first}. Last letter: {last}.\"\"\".format(last='Z', first='A')"
   ]
  },
  {
   "cell_type": "markdown",
   "metadata": {
    "_cell_guid": "a3e90d29-ed39-4615-9c3e-e374fe0bf383",
    "_uuid": "bbc5d5a487d36b0d63226821703ca530297e1d40"
   },
   "source": [
    "Finally, for numerical inputs, you can include format codes which control how the value is converted to a string.\n",
    "For example, to print a number as a floating point with three digits after the decimal point, you can use the following:"
   ]
  },
  {
   "cell_type": "code",
   "execution_count": 37,
   "metadata": {
    "_cell_guid": "956ca55c-aaca-4ac1-93b3-ae465a809d83",
    "_uuid": "2b67ddba3337abe9e3e897a68cb7d180417ab77d",
    "collapsed": true
   },
   "outputs": [
    {
     "data": {
      "text/plain": [
       "'pi = 3.142'"
      ]
     },
     "execution_count": 37,
     "metadata": {},
     "output_type": "execute_result"
    }
   ],
   "source": [
    "\"pi = {0:.3f}\".format(pi)"
   ]
  },
  {
   "cell_type": "markdown",
   "metadata": {
    "_cell_guid": "55e244ff-f695-49e5-b1f3-daaeb5121dd5",
    "_uuid": "3f553ab5fac5d675b3d22189917e530876606e63"
   },
   "source": [
    "As before, here the \"``0``\" refers to the index of the value to be inserted.\n",
    "The \"``:``\" marks that format codes will follow.\n",
    "The \"``.3f``\" encodes the desired precision: three digits beyond the decimal point, floating-point format.\n",
    "\n",
    "This style of format specification is very flexible, and the examples here barely scratch the surface of the formatting options available.\n",
    "For more information on the syntax of these format strings, see the [Format Specification](https://docs.python.org/3/library/string.html#formatspec) section of Python's online documentation."
   ]
  },
  {
   "cell_type": "markdown",
   "metadata": {
    "_cell_guid": "7e261c89-fdba-42f2-9ee8-9cdcb25d8243",
    "_uuid": "3dcfcf23213e45f8a6a5664bf025db30c782fce3"
   },
   "source": [
    "## Flexible Pattern Matching with Regular Expressions\n",
    "\n",
    "The methods of Python's ``str`` type give you a powerful set of tools for formatting, splitting, and manipulating string data.\n",
    "But even more powerful tools are available in Python's built-in *regular expression* module.\n",
    "Regular expressions are a huge topic; there are there are entire books written on the topic (including Jeffrey E.F. Friedl’s [*Mastering Regular Expressions, 3rd Edition*](http://shop.oreilly.com/product/9780596528126.do)), so it will be hard to do justice within just a single subsection.\n",
    "\n",
    "My goal here is to give you an idea of the types of problems that might be addressed using regular expressions, as well as a basic idea of how to use them in Python.\n",
    "I'll suggest some references for learning more in [Further Resources on Regular Expressions](#Further-Resources-on-Regular-Expressions).\n",
    "\n",
    "Fundamentally, regular expressions are a means of *flexible pattern matching* in strings.\n",
    "If you frequently use the command-line, you are probably familiar with this type of flexible matching with the \"``*``\" character, which acts as a wildcard.\n",
    "For example, we can list all the IPython notebooks (i.e., files with extension *.ipynb*) with \"Python\" in their filename by using the \"``*``\" wildcard to match any characters in between:"
   ]
  },
  {
   "cell_type": "code",
   "execution_count": 2,
   "metadata": {
    "_cell_guid": "e85f1ae0-c979-4a11-805d-1bed89dc1951",
    "_uuid": "62e7f35881c36499e1cba70a39b81822b329a2d1",
    "collapsed": true
   },
   "outputs": [
    {
     "name": "stderr",
     "output_type": "stream",
     "text": [
      "'ls' is not recognized as an internal or external command,\n",
      "operable program or batch file.\n"
     ]
    }
   ],
   "source": [
    "!ls *Python*.ipynb"
   ]
  },
  {
   "cell_type": "markdown",
   "metadata": {
    "_cell_guid": "75b5135a-512f-4e12-8b8d-a973b34a62c0",
    "_uuid": "da1aff4c72ef6a707822caba6179e9833d66daa4"
   },
   "source": [
    "Regular expressions generalize this \"wildcard\" idea to a wide range of flexible string-matching sytaxes.\n",
    "The Python interface to regular expressions is contained in the built-in ``re`` module; as a simple example, let's use it to duplicate the functionality of the string ``split()`` method:"
   ]
  },
  {
   "cell_type": "code",
   "execution_count": 39,
   "metadata": {
    "_cell_guid": "94862702-ea55-4f0c-8ec9-d2f6b818e1b6",
    "_uuid": "518f4805dbf76cd1ba9337d74ea1b82dc05a83ac",
    "collapsed": true
   },
   "outputs": [
    {
     "data": {
      "text/plain": [
       "['the', 'quick', 'brown', 'fox', 'jumped', 'over', 'a', 'lazy', 'dog']"
      ]
     },
     "execution_count": 39,
     "metadata": {},
     "output_type": "execute_result"
    }
   ],
   "source": [
    "import re\n",
    "regex = re.compile('\\s+')\n",
    "regex.split(line)"
   ]
  },
  {
   "cell_type": "markdown",
   "metadata": {
    "_cell_guid": "20beb211-9da6-49f7-8928-264c89a21fda",
    "_uuid": "8b3798cb8bdc628299055bacbc5db1b2a5c9619c"
   },
   "source": [
    "Here we've first *compiled* a regular expression, then used it to *split* a string.\n",
    "Just as Python's ``split()`` method returns a list of all substrings between whitespace, the regular expression ``split()`` method returns a list of all substrings between matches to the input pattern.\n",
    "\n",
    "In this case, the input is ``\"\\s+\"``: \"``\\s``\" is a special character that matches any whitespace (space, tab, newline, etc.), and the \"``+``\" is a character that indicates *one or more* of the entity preceding it.\n",
    "Thus, the regular expression matches any substring consisting of one or more spaces.\n",
    "\n",
    "The ``split()`` method here is basically a convenience routine built upon this *pattern matching* behavior; more fundamental is the ``match()`` method, which will tell you whether the beginning of a string matches the pattern:"
   ]
  },
  {
   "cell_type": "code",
   "execution_count": 41,
   "metadata": {
    "_cell_guid": "a7dc93c8-c08d-4e29-97a0-1ee3d0b87f0a",
    "_uuid": "333c3edb5f2e4a02bb22e19c9e8fb12b09526fcc",
    "collapsed": true
   },
   "outputs": [],
   "source": [
    "line = 'the quick brown fox jumped over a lazy dog'"
   ]
  },
  {
   "cell_type": "markdown",
   "metadata": {
    "_cell_guid": "4d4012c5-b2f7-4ca9-8945-73a3d2490b6e",
    "_uuid": "b576abae4b35ecde39f0c7a21e312f5afac60fa3"
   },
   "source": [
    "With this, we can see that the ``regex.search()`` method operates a lot like ``str.index()`` or ``str.find()``:"
   ]
  },
  {
   "cell_type": "code",
   "execution_count": 42,
   "metadata": {
    "_cell_guid": "c5dd7934-3163-4904-86e3-f64dd0ae1845",
    "_uuid": "63f8f75c63a74cb75df418fdca423f29d3e4ec7c",
    "collapsed": true
   },
   "outputs": [
    {
     "data": {
      "text/plain": [
       "16"
      ]
     },
     "execution_count": 42,
     "metadata": {},
     "output_type": "execute_result"
    }
   ],
   "source": [
    "line.index('fox')"
   ]
  },
  {
   "cell_type": "code",
   "execution_count": 43,
   "metadata": {
    "_cell_guid": "17303ae9-bea8-44f7-b0b6-5f0cff41bbba",
    "_uuid": "7af757c391fe4f1f9d8b70553f638f0d39a0a0fe",
    "collapsed": true
   },
   "outputs": [
    {
     "data": {
      "text/plain": [
       "16"
      ]
     },
     "execution_count": 43,
     "metadata": {},
     "output_type": "execute_result"
    }
   ],
   "source": [
    "regex = re.compile('fox')\n",
    "match = regex.search(line)\n",
    "match.start()"
   ]
  },
  {
   "cell_type": "markdown",
   "metadata": {
    "_cell_guid": "aaf2e935-ffad-4bd6-a554-bcc0ebad7985",
    "_uuid": "1038775ccd3a820c44a7bbc6f4d471289a3336ef"
   },
   "source": [
    "Similarly, the ``regex.sub()`` method operates much like ``str.replace()``:"
   ]
  },
  {
   "cell_type": "code",
   "execution_count": 44,
   "metadata": {
    "_cell_guid": "2876d779-5ac1-416a-876a-bcaf04dee7fe",
    "_uuid": "38d1c671432bcc784c6636e8d0b89aec40ee2db2",
    "collapsed": true
   },
   "outputs": [
    {
     "data": {
      "text/plain": [
       "'the quick brown BEAR jumped over a lazy dog'"
      ]
     },
     "execution_count": 44,
     "metadata": {},
     "output_type": "execute_result"
    }
   ],
   "source": [
    "line.replace('fox', 'BEAR')"
   ]
  },
  {
   "cell_type": "code",
   "execution_count": 45,
   "metadata": {
    "_cell_guid": "21253d04-7d85-45ac-b1c2-c10c526c9e32",
    "_uuid": "f857258e4b174ed2d4ee7701c55408bd392056b5",
    "collapsed": true
   },
   "outputs": [
    {
     "data": {
      "text/plain": [
       "'the quick brown BEAR jumped over a lazy dog'"
      ]
     },
     "execution_count": 45,
     "metadata": {},
     "output_type": "execute_result"
    }
   ],
   "source": [
    "regex.sub('BEAR', line)"
   ]
  },
  {
   "cell_type": "markdown",
   "metadata": {
    "_cell_guid": "611db542-14a6-481a-b499-119de155aa15",
    "_uuid": "e9881f1f927f5aa9ade4273abe2fcf2c034ee69e"
   },
   "source": [
    "With a bit of thought, other native string operations can also be cast as regular expressions."
   ]
  },
  {
   "cell_type": "markdown",
   "metadata": {
    "_cell_guid": "067c9ccd-9b43-4960-b36e-45bd322df3c4",
    "_uuid": "278a566fda75866f4f936b641407a36b83dc9426"
   },
   "source": [
    "### A more sophisticated example\n",
    "\n",
    "But, you might ask, why would you want to use the more complicated and verbose syntax of regular expressions rather than the more intuitive and simple string methods?\n",
    "The advantage is that regular expressions offer *far* more flexibility.\n",
    "\n",
    "Here we'll consider a more complicated example: the common task of matching email addresses.\n",
    "I'll start by simply writing a (somewhat indecipherable) regular expression, and then walk through what is going on.\n",
    "Here it goes:"
   ]
  },
  {
   "cell_type": "code",
   "execution_count": 46,
   "metadata": {
    "_cell_guid": "6ddeeed9-bd79-4c4e-9f34-6c50e5f7d218",
    "_uuid": "2243453d8155ffa9ef61089f5b9234f40964e0fe",
    "collapsed": true
   },
   "outputs": [],
   "source": [
    "email = re.compile('\\w+@\\w+\\.[a-z]{3}')"
   ]
  },
  {
   "cell_type": "markdown",
   "metadata": {
    "_cell_guid": "d668d4b4-d448-486b-9d23-f2862320894d",
    "_uuid": "0efb685b99a236560801d2d7f2579bb41d99b6cc"
   },
   "source": [
    "Using this, if we're given a line from a document, we can quickly extract things that look like email addresses"
   ]
  },
  {
   "cell_type": "code",
   "execution_count": 47,
   "metadata": {
    "_cell_guid": "0230a96c-ccaa-49ce-a6ec-8502a2e3164b",
    "_uuid": "af46495743ef272917fe7e8f399df91b37db4e3b",
    "collapsed": true
   },
   "outputs": [
    {
     "data": {
      "text/plain": [
       "['guido@python.org', 'guido@google.com']"
      ]
     },
     "execution_count": 47,
     "metadata": {},
     "output_type": "execute_result"
    }
   ],
   "source": [
    "text = \"To email Guido, try guido@python.org or the older address guido@google.com.\"\n",
    "email.findall(text)"
   ]
  },
  {
   "cell_type": "markdown",
   "metadata": {
    "_cell_guid": "fdb0ef39-bb8a-457c-883d-44c8c48f3c69",
    "_uuid": "07922b7bd90e1e6260b45524ed97c157a91ee7e4"
   },
   "source": [
    "(Note that these addresses are entirely made up; there are probably better ways to get in touch with Guido).\n",
    "\n",
    "We can do further operations, like replacing these email addresses with another string, perhaps to hide addresses in the output:"
   ]
  },
  {
   "cell_type": "code",
   "execution_count": 48,
   "metadata": {
    "_cell_guid": "745150cc-7d41-4960-9ade-5632b52ba151",
    "_uuid": "0d4735a7b374530e9a4fb8ce6f9817b4ae4ff51d",
    "collapsed": true
   },
   "outputs": [
    {
     "data": {
      "text/plain": [
       "'To email Guido, try --@--.-- or the older address --@--.--.'"
      ]
     },
     "execution_count": 48,
     "metadata": {},
     "output_type": "execute_result"
    }
   ],
   "source": [
    "email.sub('--@--.--', text)"
   ]
  },
  {
   "cell_type": "markdown",
   "metadata": {
    "_cell_guid": "6d322f71-1632-4acd-86d8-a8d3ad3b08b7",
    "_uuid": "ddd96ae786bbc353419c27408763a168296dd42b"
   },
   "source": [
    "Finally, note that if you really want to match *any* email address, the preceding regular expression is far too simple.\n",
    "For example, it only allows addresses made of alphanumeric characters that end in one of several common domain suffixes.\n",
    "So, for example, the period used here means that we only find part of the address:"
   ]
  },
  {
   "cell_type": "code",
   "execution_count": 49,
   "metadata": {
    "_cell_guid": "6182f6dd-9294-4af8-861d-d49b7498152e",
    "_uuid": "091fe0ab59d4f2d85b9f2355376ca051bfd98642",
    "collapsed": true
   },
   "outputs": [
    {
     "data": {
      "text/plain": [
       "['obama@whitehouse.gov']"
      ]
     },
     "execution_count": 49,
     "metadata": {},
     "output_type": "execute_result"
    }
   ],
   "source": [
    "email.findall('barack.obama@whitehouse.gov')"
   ]
  },
  {
   "cell_type": "markdown",
   "metadata": {
    "_cell_guid": "89c9c833-7cf1-4bbb-88b3-ae051506cb31",
    "_uuid": "f5ce965055305a90420a084e3d9fb512624ac642"
   },
   "source": [
    "This goes to show how unforgiving regular expressions can be if you're not careful!\n",
    "If you search around online, you can find some suggestions for regular expressions that will match *all* valid emails, but beware: they are much more involved than the simple expression used here!"
   ]
  },
  {
   "cell_type": "markdown",
   "metadata": {
    "_cell_guid": "2f6ed1cd-63d2-4c61-959d-a3dbf997875b",
    "_uuid": "0048967de8d850a2427f986fc47f77586c99ca79"
   },
   "source": [
    "### Basics of regular expression syntax\n",
    "\n",
    "The syntax of regular expressions is much too large a topic for this short section.\n",
    "Still, a bit of familiarity can go a long way: I will walk through some of the basic constructs here, and then list some more complete resources from which you can learn more.\n",
    "My hope is that the following quick primer will enable you to use these resources effectively."
   ]
  },
  {
   "cell_type": "markdown",
   "metadata": {
    "_cell_guid": "4c2fd0fa-c415-417e-9909-2996cb8056b3",
    "_uuid": "4f5ea41ba27100ebbe04b84d4ddfd8ee59b4ff5c"
   },
   "source": [
    "#### Simple strings are matched directly\n",
    "\n",
    "If you build a regular expression on a simple string of characters or digits, it will match that exact string:"
   ]
  },
  {
   "cell_type": "code",
   "execution_count": 50,
   "metadata": {
    "_cell_guid": "bc770b66-787f-49ce-9073-69d539ce12d1",
    "_uuid": "5a781c8d9798953da653c0d351c871a3e2cc31de",
    "collapsed": true
   },
   "outputs": [
    {
     "data": {
      "text/plain": [
       "['ion']"
      ]
     },
     "execution_count": 50,
     "metadata": {},
     "output_type": "execute_result"
    }
   ],
   "source": [
    "regex = re.compile('ion')\n",
    "regex.findall('Great Expectations')"
   ]
  },
  {
   "cell_type": "markdown",
   "metadata": {
    "_cell_guid": "a900a4ba-10de-47f1-88dd-d93a154173bb",
    "_uuid": "a26e0cf53ae67ebb3bc11782a751cfc6ca3e0f6f"
   },
   "source": [
    "#### Some characters have special meanings\n",
    "\n",
    "While simple letters or numbers are direct matches, there are a handful of characters that have special meanings within regular expressions. They are:\n",
    "```\n",
    ". ^ $ * + ? { } [ ] \\ | ( )\n",
    "```\n",
    "We will discuss the meaning of some of these momentarily.\n",
    "In the meantime, you should know that if you'd like to match any of these characters directly, you can *escape* them with a back-slash:"
   ]
  },
  {
   "cell_type": "code",
   "execution_count": 4,
   "metadata": {},
   "outputs": [],
   "source": [
    "import re"
   ]
  },
  {
   "cell_type": "code",
   "execution_count": 11,
   "metadata": {
    "_cell_guid": "89ea1da3-0580-4236-8bce-5db337440906",
    "_uuid": "2e450cd1811338778312b6803966e7bb9f2cc497",
    "collapsed": true
   },
   "outputs": [
    {
     "data": {
      "text/plain": [
       "['$']"
      ]
     },
     "execution_count": 11,
     "metadata": {},
     "output_type": "execute_result"
    }
   ],
   "source": [
    "regex = re.compile(r'\\$')\n",
    "regex.findall(\"the cost is $20\")"
   ]
  },
  {
   "cell_type": "markdown",
   "metadata": {
    "_cell_guid": "24b6346b-1903-4dcc-a02d-624f037c1cc6",
    "_uuid": "30bd1c78874def168459850f741cdc274efca46c"
   },
   "source": [
    "The ``r`` preface in ``r'\\$'`` indicates a *raw string*; in standard Python strings, the backslash is used to indicate special characters.\n",
    "For example, a tab is indicated by ``\"\\t\"``:"
   ]
  },
  {
   "cell_type": "code",
   "execution_count": 52,
   "metadata": {
    "_cell_guid": "6210a068-e6d2-4daa-8fe3-191dc467e93d",
    "_uuid": "4d0e6c99a428dce395c088cbf2e75dc0dd99ca0f",
    "collapsed": true
   },
   "outputs": [
    {
     "name": "stdout",
     "output_type": "stream",
     "text": [
      "a\tb\tc\n"
     ]
    }
   ],
   "source": [
    "print('a\\tb\\tc')"
   ]
  },
  {
   "cell_type": "markdown",
   "metadata": {
    "_cell_guid": "dd92bb4b-8089-4148-819c-87d9bbfdf130",
    "_uuid": "1f9e572717b985e96aaf6c29b058cd99e22196cb"
   },
   "source": [
    "Such substitutions are not made in a raw string:"
   ]
  },
  {
   "cell_type": "code",
   "execution_count": 53,
   "metadata": {
    "_cell_guid": "1ab9a96f-7aaf-4cb1-b753-29bfdb4cf34e",
    "_uuid": "e6504c3e5cb6ec8e28421184a45fe5b96bbca173",
    "collapsed": true
   },
   "outputs": [
    {
     "name": "stdout",
     "output_type": "stream",
     "text": [
      "a\\tb\\tc\n"
     ]
    }
   ],
   "source": [
    "print(r'a\\tb\\tc')"
   ]
  },
  {
   "cell_type": "markdown",
   "metadata": {
    "_cell_guid": "4f13065d-9a78-45fd-bce8-dd8e5f1a46bd",
    "_uuid": "9bb4bf045114f5755ae473c3a274c4fb4ac4ea8a"
   },
   "source": [
    "For this reason, whenever you use backslashes in a regular expression, it is good practice to use a raw string."
   ]
  },
  {
   "cell_type": "markdown",
   "metadata": {
    "_cell_guid": "14e76b6b-e7c4-40c5-b675-0d888a6bf1ab",
    "_uuid": "69f624725e3108a780a32285c588f404dd61419f"
   },
   "source": [
    "#### Special characters can match character groups\n",
    "\n",
    "Just as the ``\"\\\"`` character within regular expressions can escape special characters, turning them into normal characters, it can also be used to give normal characters special meaning.\n",
    "These special characters match specified groups of characters, and we've seen them before.\n",
    "In the email address regexp from before, we used the character ``\"\\w\"``, which is a special marker matching *any alphanumeric character*. Similarly, in the simple ``split()`` example, we also saw ``\"\\s\"``, a special marker indicating *any whitespace character*.\n",
    "\n",
    "Putting these together, we can create a regular expression that will match *any two letters/digits with whitespace between them*:"
   ]
  },
  {
   "cell_type": "code",
   "execution_count": 54,
   "metadata": {
    "_cell_guid": "8c754ccf-53aa-430b-97d5-e2636ed4a8ea",
    "_uuid": "1cce8f1a4ec1beaa1ba7a5b0965887bf8bba3c80",
    "collapsed": true
   },
   "outputs": [
    {
     "data": {
      "text/plain": [
       "['e f', 'x i', 's 9', 's o']"
      ]
     },
     "execution_count": 54,
     "metadata": {},
     "output_type": "execute_result"
    }
   ],
   "source": [
    "regex = re.compile(r'\\w\\s\\w')\n",
    "regex.findall('the fox is 9 years old')"
   ]
  },
  {
   "cell_type": "markdown",
   "metadata": {
    "_cell_guid": "16cb9a51-3b25-44bf-b55c-89c18e39d59d",
    "_uuid": "9b8e30fa986e4757e4e6b678b7004e48f1a5fca8"
   },
   "source": [
    "This example begins to hint at the power and flexibility of regular expressions."
   ]
  },
  {
   "cell_type": "markdown",
   "metadata": {},
   "source": [
    "The following table lists a few of these characters that are commonly useful:"
   ]
  },
  {
   "cell_type": "markdown",
   "metadata": {},
   "source": [
    "| Character | Description                 | Character | Description                     |\n",
    "|-----------|-----------------------------|-----------|---------------------------------|\n",
    "| ``\"\\d\"``  | Match any digit             | ``\"\\D\"``  | Match any non-digit             |\n",
    "| ``\"\\s\"``  | Match any whitespace        | ``\"\\S\"``  | Match any non-whitespace        |\n",
    "| ``\"\\w\"``  | Match any alphanumeric char | ``\"\\W\"``  | Match any non-alphanumeric char |"
   ]
  },
  {
   "cell_type": "markdown",
   "metadata": {
    "_cell_guid": "44c23b89-e163-4a46-b915-7a0eefa821a1",
    "_uuid": "d2150e420c87717f2ca7912547a0e84ea53dde2b"
   },
   "source": [
    "\n",
    "\n",
    "\n",
    "\n",
    "This is *not* a comprehensive list or description; for more details, see Python's [regular expression syntax documentation](https://docs.python.org/3/library/re.html#re-syntax)."
   ]
  },
  {
   "cell_type": "markdown",
   "metadata": {
    "_cell_guid": "4615f03b-9a9d-4aaa-aaa5-11ce291e43c7",
    "_uuid": "f60e245b05101448e46ac8967850a0ea31b8eb5c"
   },
   "source": [
    "#### Square brackets match custom character groups\n",
    "\n",
    "If the built-in character groups aren't specific enough for you, you can use square brackets to specify any set of characters you're interested in.\n",
    "For example, the following will match any lower-case vowel:"
   ]
  },
  {
   "cell_type": "code",
   "execution_count": 55,
   "metadata": {
    "_cell_guid": "77dac937-a12f-4e9d-b42e-671f16d776bf",
    "_uuid": "5e7693a84966df33f9cfe1a03af986bb47446900",
    "collapsed": true
   },
   "outputs": [
    {
     "data": {
      "text/plain": [
       "['c', 'ns', 'q', '', 'nt', '', 'l']"
      ]
     },
     "execution_count": 55,
     "metadata": {},
     "output_type": "execute_result"
    }
   ],
   "source": [
    "regex = re.compile('[aeiou]')\n",
    "regex.split('consequential')"
   ]
  },
  {
   "cell_type": "code",
   "execution_count": 12,
   "metadata": {},
   "outputs": [
    {
     "data": {
      "text/plain": [
       "['o', 'e', 'u', 'e', 'i', 'a']"
      ]
     },
     "execution_count": 12,
     "metadata": {},
     "output_type": "execute_result"
    }
   ],
   "source": [
    "regex = re.compile('[aeiou]')\n",
    "regex.findall('consequential')"
   ]
  },
  {
   "cell_type": "markdown",
   "metadata": {
    "_cell_guid": "329d065c-e2a9-42a8-afcd-d2aefea03ab2",
    "_uuid": "d22b233976cbebbbf0e629c97c8b82d9d534d40c"
   },
   "source": [
    "Similarly, you can use a dash to specify a range: for example, ``\"[a-z]\"`` will match any lower-case letter, and ``\"[1-3]\"`` will match any of ``\"1\"``, ``\"2\"``, or ``\"3\"``.\n",
    "For instance, you may need to extract from a document specific numerical codes that consist of a capital letter followed by a digit. You could do this as follows:"
   ]
  },
  {
   "cell_type": "code",
   "execution_count": 56,
   "metadata": {
    "_cell_guid": "5462f56b-f549-4f4d-819c-83309ed78f15",
    "_uuid": "f1c285fea075b2f82cbdfbd371614c36cd0779fa",
    "collapsed": true
   },
   "outputs": [
    {
     "data": {
      "text/plain": [
       "['G2', 'H6']"
      ]
     },
     "execution_count": 56,
     "metadata": {},
     "output_type": "execute_result"
    }
   ],
   "source": [
    "regex = re.compile('[A-Z][0-9]')\n",
    "regex.findall('1043879, G2, H6')"
   ]
  },
  {
   "cell_type": "markdown",
   "metadata": {
    "_cell_guid": "b0222bfd-4308-4876-8b75-287c7cf4aead",
    "_uuid": "295a430576c3673c92313fdd2caeb57d25a6d129"
   },
   "source": [
    "#### Wildcards match repeated characters\n",
    "\n",
    "If you would like to match a string with, say, three alphanumeric characters in a row, it is possible to write, for example, ``\"\\w\\w\\w\"``.\n",
    "Because this is such a common need, there is a specific syntax to match repetitions – curly braces with a number:"
   ]
  },
  {
   "cell_type": "code",
   "execution_count": 57,
   "metadata": {
    "_cell_guid": "e94e8289-4813-4aa0-956d-4fc5d4ffc5cd",
    "_uuid": "b7f8eaba6c8f43ccf0e6b44f10e7de9b52270fc7",
    "collapsed": true
   },
   "outputs": [
    {
     "data": {
      "text/plain": [
       "['The', 'qui', 'bro', 'fox']"
      ]
     },
     "execution_count": 57,
     "metadata": {},
     "output_type": "execute_result"
    }
   ],
   "source": [
    "regex = re.compile(r'\\w{3}')\n",
    "regex.findall('The quick brown fox')"
   ]
  },
  {
   "cell_type": "markdown",
   "metadata": {
    "_cell_guid": "6eec2598-cc5a-44c9-8343-1960374ae3fe",
    "_uuid": "23c548a7ade1ee4ec005622548f0f82f0a0954dc"
   },
   "source": [
    "There are also markers available to match any number of repetitions – for example, the ``\"+\"`` character will match *one or more* repetitions of what precedes it:"
   ]
  },
  {
   "cell_type": "code",
   "execution_count": 58,
   "metadata": {
    "_cell_guid": "e180638f-8795-46ec-9ce8-50c701eaa5d8",
    "_uuid": "5051477101ea92bfd3eb391db505dffb4238c977",
    "collapsed": true
   },
   "outputs": [
    {
     "data": {
      "text/plain": [
       "['The', 'quick', 'brown', 'fox']"
      ]
     },
     "execution_count": 58,
     "metadata": {},
     "output_type": "execute_result"
    }
   ],
   "source": [
    "regex = re.compile(r'\\w+')\n",
    "regex.findall('The quick brown fox')"
   ]
  },
  {
   "cell_type": "code",
   "execution_count": 14,
   "metadata": {},
   "outputs": [
    {
     "data": {
      "text/plain": [
       "['The', '', 'quick', '', 'brown', '', 'fox', '']"
      ]
     },
     "execution_count": 14,
     "metadata": {},
     "output_type": "execute_result"
    }
   ],
   "source": [
    "regex = re.compile(r'\\w*')\n",
    "regex.findall('The quick brown fox')"
   ]
  },
  {
   "cell_type": "code",
   "execution_count": 19,
   "metadata": {},
   "outputs": [
    {
     "data": {
      "text/plain": [
       "['The', 'qui', 'bro', 'fox']"
      ]
     },
     "execution_count": 19,
     "metadata": {},
     "output_type": "execute_result"
    }
   ],
   "source": [
    "regex = re.compile(r'\\w{3}')\n",
    "regex.findall('The quick brown fox')"
   ]
  },
  {
   "cell_type": "markdown",
   "metadata": {
    "_cell_guid": "ea1773ec-36b1-4078-8aee-fdd4f962aa3d",
    "_uuid": "f805059e974c086d6fc1576d7b9774692b417d7d"
   },
   "source": [
    "The following is a table of the repetition markers available for use in regular expressions:\n",
    "\n",
    "| Character | Description | Example |\n",
    "|-----------|-------------|---------|\n",
    "| ``?`` | Match zero or one repetitions of preceding  | ``\"ab?\"`` matches ``\"a\"`` or ``\"ab\"`` |\n",
    "| ``*`` | Match zero or more repetitions of preceding | ``\"ab*\"`` matches ``\"a\"``, ``\"ab\"``, ``\"abb\"``, ``\"abbb\"``... |\n",
    "| ``+`` | Match one or more repetitions of preceding  | ``\"ab+\"`` matches ``\"ab\"``, ``\"abb\"``, ``\"abbb\"``... but not ``\"a\"`` |\n",
    "| ``{n}`` | Match ``n`` repetitions of preeeding | ``\"ab{2}\"`` matches ``\"abb\"`` |\n",
    "| ``{m,n}`` | Match between ``m`` and ``n`` repetitions of preceding | ``\"ab{2,3}\"`` matches ``\"abb\"`` or ``\"abbb\"`` |"
   ]
  },
  {
   "cell_type": "markdown",
   "metadata": {
    "_cell_guid": "95eb106a-e40c-4207-90a7-3b97557caaf2",
    "_uuid": "bc6b6b675d27432dd0d603a3cd3cb3ca24f96757"
   },
   "source": [
    "With these basics in mind, let's return to our email address matcher:"
   ]
  },
  {
   "cell_type": "code",
   "execution_count": 59,
   "metadata": {
    "_cell_guid": "3bf0446e-7629-487c-acbe-af1366caf1a2",
    "_uuid": "547fe5eb11ea2f231d4e025728b35348d757eb3d",
    "collapsed": true
   },
   "outputs": [],
   "source": [
    "email = re.compile(r'\\w+@\\w+\\.[a-z]{3}')"
   ]
  },
  {
   "cell_type": "markdown",
   "metadata": {
    "_cell_guid": "a171ccef-2d5b-4308-b1b8-ec2e9c40a97f",
    "_uuid": "d4fee9e3ccc150d457c867e31fe6ceba36f41719"
   },
   "source": [
    "We can now understand what this means: we want one or more alphanumeric character (``\"\\w+\"``) followed by the *at sign* (``\"@\"``), followed by one or more alphanumeric character (``\"\\w+\"``), followed by a period (``\"\\.\"`` – note the need for a backslash escape), followed by exactly three lower-case letters.\n",
    "\n",
    "If we want to now modify this so that the Obama email address matches, we can do so using the square-bracket notation:"
   ]
  },
  {
   "cell_type": "code",
   "execution_count": 22,
   "metadata": {
    "_cell_guid": "b0212b40-25b4-4832-97eb-9756e45797a5",
    "_uuid": "9c16446219c3f193f5fe1bc08c07f8088f31c444",
    "collapsed": true
   },
   "outputs": [
    {
     "data": {
      "text/plain": [
       "['barack.obama@whitehouse.gov']"
      ]
     },
     "execution_count": 22,
     "metadata": {},
     "output_type": "execute_result"
    }
   ],
   "source": [
    "email2 = re.compile(r'[\\w.]+@\\w+\\.[a-z]{3}')\n",
    "email2.findall('barack.obama@whitehouse.gov')"
   ]
  },
  {
   "cell_type": "markdown",
   "metadata": {
    "_cell_guid": "5667d452-6cef-4c5a-a3ea-4f869a52dcbb",
    "_uuid": "70944b4f77849ffdd2424dc7705c26e09d12c929"
   },
   "source": [
    "We have changed ``\"\\w+\"`` to ``\"[\\w.]+\"``, so we will match any alphanumeric character *or* a period.\n",
    "With this more flexible expression, we can match a wider range of email addresses (though still not all – can you identify other shortcomings of this expression?)."
   ]
  },
  {
   "cell_type": "markdown",
   "metadata": {
    "_cell_guid": "cb7d4dc6-88bd-431e-b051-a98a855e8650",
    "_uuid": "b5ddee8b57e34e46050fb392e6a0fa85854bb5e3"
   },
   "source": [
    "#### Parentheses indicate *groups* to extract\n",
    "\n",
    "For compound regular expressions like our email matcher, we often want to extract their components rather than the full match. This can be done using parentheses to *group* the results:"
   ]
  },
  {
   "cell_type": "code",
   "execution_count": 61,
   "metadata": {
    "_cell_guid": "4c5c05dd-262f-4295-b45a-d38c5002a15a",
    "_uuid": "e887e65fb143b1df472ab56e81980a2f1c0a3c2d",
    "collapsed": true
   },
   "outputs": [],
   "source": [
    "email3 = re.compile(r'([\\w.]+)@(\\w+)\\.([a-z]{3})')"
   ]
  },
  {
   "cell_type": "code",
   "execution_count": 62,
   "metadata": {
    "_cell_guid": "83c73889-ee55-4cc8-b280-155b75c920a6",
    "_uuid": "c3a5885741956b8d46f4d5b0acc1928f88a72c06",
    "collapsed": true
   },
   "outputs": [
    {
     "data": {
      "text/plain": [
       "[('guido', 'python', 'org'), ('guido', 'google', 'com')]"
      ]
     },
     "execution_count": 62,
     "metadata": {},
     "output_type": "execute_result"
    }
   ],
   "source": [
    "text = \"To email Guido, try guido@python.org or the older address guido@google.com.\"\n",
    "email3.findall(text)"
   ]
  },
  {
   "cell_type": "markdown",
   "metadata": {
    "_cell_guid": "9925d523-9856-4d96-a885-904b67ebd516",
    "_uuid": "655550cf10ce6947454e12f6219907dee0495411"
   },
   "source": [
    "As we see, this grouping actually extracts a list of the sub-components of the email address.\n",
    "\n",
    "We can go a bit further and *name* the extracted components using the ``\"(?P<name> )\"`` syntax, in which case the groups can be extracted as a Python dictionary:"
   ]
  },
  {
   "cell_type": "code",
   "execution_count": 63,
   "metadata": {
    "_cell_guid": "d8d83b4a-b3d1-4c9e-89b7-c5ae0416b182",
    "_uuid": "eaedf2cff0c37d288101896aa45b8b9fa2ce3e05",
    "collapsed": true
   },
   "outputs": [
    {
     "data": {
      "text/plain": [
       "{'domain': 'python', 'suffix': 'org', 'user': 'guido'}"
      ]
     },
     "execution_count": 63,
     "metadata": {},
     "output_type": "execute_result"
    }
   ],
   "source": [
    "email4 = re.compile(r'(?P<user>[\\w.]+)@(?P<domain>\\w+)\\.(?P<suffix>[a-z]{3})')\n",
    "match = email4.match('guido@python.org')\n",
    "match.groupdict()"
   ]
  },
  {
   "cell_type": "markdown",
   "metadata": {
    "_cell_guid": "811ca183-674f-4a48-9f9e-ece8db793ec7",
    "_uuid": "e991fdb83608eb3489f1f65c86860c1e7068ae01"
   },
   "source": [
    "Combining these ideas (as well as some of the powerful regexp syntax that we have not covered here) allows you to flexibly and quickly extract information from strings in Python."
   ]
  },
  {
   "cell_type": "markdown",
   "metadata": {
    "_cell_guid": "c95d811b-2526-4454-9e28-ef66990c6047",
    "_uuid": "8d02554014632887fd1a86a01331c87835121d74"
   },
   "source": [
    "### Further Resources on Regular Expressions\n",
    "\n",
    "The above discussion is just a quick (and far from complete) treatment of this large topic.\n",
    "If you'd like to learn more, I recommend the following resources:\n",
    "\n",
    "- [Python's ``re`` package Documentation](https://docs.python.org/3/library/re.html): I find that I promptly forget how to use regular expressions just about every time I use them. Now that I have the basics down, I have found this page to be an incredibly valuable resource to recall what each specific character or sequence means within a regular expression.\n",
    "- [Python's official regular expression HOWTO](https://docs.python.org/3/howto/regex.html): a more narrative approach to regular expressions in Python.\n",
    "- [Mastering Regular Expressions (OReilly, 2006)](http://shop.oreilly.com/product/9780596528126.do) is a 500+ page book on the subject. If you want a really complete treatment of this topic, this is the resource for you.\n",
    "\n",
    "For some examples of string manipulation and regular expressions in action at a larger scale, see [Pandas: Labeled Column-oriented Data](15-Preview-of-Data-Science-Tools.ipynb#Pandas:-Labeled-Column-oriented-Data), where we look at applying these sorts of expressions across *tables* of string data within the Pandas package."
   ]
  },
  {
   "cell_type": "markdown",
   "metadata": {
    "_cell_guid": "41a0940e-36d6-44b9-849f-e7b6f8fd6d35",
    "_uuid": "dca0b397bfaa525cec6100b8286a6e13fa7d2713"
   },
   "source": [
    "<!--NAVIGATION-->\n",
    "< [Modules and Packages](https://www.kaggle.com/sohier/wtop-13-modules-and-packages) | [Contents](https://www.kaggle.com/sohier/whirlwind-tour-of-python-index/) | [A Preview of Data Science Tools](https://www.kaggle.com/sohier/wtop-15-preview-of-data-science-tools) >"
   ]
  },
  {
   "cell_type": "code",
   "execution_count": 25,
   "metadata": {
    "_uuid": "2430d00d1d413b4fa99dc124cc8547026a1e42f7",
    "collapsed": true
   },
   "outputs": [
    {
     "data": {
      "text/plain": [
       "[' flopper']"
      ]
     },
     "execution_count": 25,
     "metadata": {},
     "output_type": "execute_result"
    }
   ],
   "source": [
    "text = 'dog types in doggo, flopper, pupper'\n",
    "\n",
    "regex_ = re.compile(r'(doggo | flopper)')\n",
    "regex_.findall(text)"
   ]
  }
 ],
 "metadata": {
  "anaconda-cloud": {},
  "kernelspec": {
   "display_name": "Python 3.9.7 ('base')",
   "language": "python",
   "name": "python3"
  },
  "language_info": {
   "codemirror_mode": {
    "name": "ipython",
    "version": 3
   },
   "file_extension": ".py",
   "mimetype": "text/x-python",
   "name": "python",
   "nbconvert_exporter": "python",
   "pygments_lexer": "ipython3",
   "version": "3.9.7"
  },
  "vscode": {
   "interpreter": {
    "hash": "5bbe1851e8ef27c06ce02c4170c07d7299c65a993da68f92144f7b7627d84cb9"
   }
  }
 },
 "nbformat": 4,
 "nbformat_minor": 1
}
