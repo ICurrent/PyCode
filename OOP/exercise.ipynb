{
 "cells": [
  {
   "cell_type": "markdown",
   "metadata": {},
   "source": [
    "## Practice Exercise -1"
   ]
  },
  {
   "cell_type": "markdown",
   "metadata": {},
   "source": [
    "_Make a class that represents a bank account. Create four methods named set_details, display, withdraw and deposit._\n",
    "\n",
    "_In the set_details method, create two instance variables : name and balance. The default value for balance should be zero. In the display method, display method, display the values of these two instance variables._\n",
    "\n",
    "_Both the methods withdraw and deposit have amount as parameter. Inside withdraw, substract the amount from balance and inside deposit, add the amount to the balance._\n",
    "\n",
    "_Create two instances of this class and call the methods on those instance._"
   ]
  },
  {
   "cell_type": "code",
   "execution_count": 39,
   "metadata": {},
   "outputs": [],
   "source": [
    "class Bamk_account:\n",
    "\n",
    "    def set_details(self, name, balance = 0):\n",
    "        self.name = name\n",
    "        self.balance = balance\n",
    "\n",
    "    def display(self):\n",
    "        return self.name, self.balance\n",
    "\n",
    "    def withdraw(self, amount):\n",
    "        self.balance -= amount\n",
    "        \n",
    "    def deposit(self, amount):\n",
    "        self.balance += amount\n",
    "\n",
    "b1 = Bamk_account()\n",
    "b2 = Bamk_account()"
   ]
  },
  {
   "cell_type": "code",
   "execution_count": 40,
   "metadata": {},
   "outputs": [
    {
     "name": "stdout",
     "output_type": "stream",
     "text": [
      "('Sam', 200)\n",
      "('Sam', 150)\n",
      "('Dan', 0)\n",
      "('Dan', 500)\n"
     ]
    }
   ],
   "source": [
    "b1.set_details('Sam', 200)\n",
    "b2.set_details('Dan')\n",
    "\n",
    "print(b1.display())\n",
    "b1.withdraw(50)\n",
    "print(b1.display())\n",
    "\n",
    "print(b2.display())\n",
    "b2.deposit(500)\n",
    "print(b2.display())"
   ]
  }
 ],
 "metadata": {
  "kernelspec": {
   "display_name": "Python 3.8.1 32-bit",
   "language": "python",
   "name": "python3"
  },
  "language_info": {
   "codemirror_mode": {
    "name": "ipython",
    "version": 3
   },
   "file_extension": ".py",
   "mimetype": "text/x-python",
   "name": "python",
   "nbconvert_exporter": "python",
   "pygments_lexer": "ipython3",
   "version": "3.8.1"
  },
  "orig_nbformat": 4,
  "vscode": {
   "interpreter": {
    "hash": "bffce1a06dec1475aa5c8b2ff56afe0d105ef2f8d81ed5b29a6d40ee419c432d"
   }
  }
 },
 "nbformat": 4,
 "nbformat_minor": 2
}
